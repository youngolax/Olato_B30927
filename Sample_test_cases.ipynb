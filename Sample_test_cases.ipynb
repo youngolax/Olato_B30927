{
  "nbformat": 4,
  "nbformat_minor": 0,
  "metadata": {
    "colab": {
      "provenance": [],
      "authorship_tag": "ABX9TyOVw7m/yb0kEC6qbz6zPz/L",
      "include_colab_link": true
    },
    "kernelspec": {
      "name": "python3",
      "display_name": "Python 3"
    },
    "language_info": {
      "name": "python"
    }
  },
  "cells": [
    {
      "cell_type": "markdown",
      "metadata": {
        "id": "view-in-github",
        "colab_type": "text"
      },
      "source": [
        "<a href=\"https://colab.research.google.com/github/youngolax/Olato_B30927/blob/main/Sample_test_cases.ipynb\" target=\"_parent\"><img src=\"https://colab.research.google.com/assets/colab-badge.svg\" alt=\"Open In Colab\"/></a>"
      ]
    },
    {
      "cell_type": "markdown",
      "source": [
        "# **A SAMPLE TEST CASE FOR EACH TEST TOOL**"
      ],
      "metadata": {
        "id": "eauwirqEJ5AY"
      }
    },
    {
      "cell_type": "markdown",
      "source": [
        "**Sample case for Unit Test**"
      ],
      "metadata": {
        "id": "lrEX3owpKNh9"
      }
    },
    {
      "cell_type": "code",
      "source": [
        "import pytest\n",
        "import requests\n",
        "from unittest.mock import patch\n",
        "\n",
        "@pytest.fixture\n",
        "def quiz_data():\n",
        "    return {\n",
        "        \"answers\": [\n",
        "            {\"question_id\": 1, \"selected\": \"A\", \"correct_answer\": \"A\"},\n",
        "            {\"question_id\": 2, \"selected\": \"B\", \"correct_answer\": \"C\"}\n",
        "        ]\n",
        "    }\n",
        "\n",
        "@patch(\"requests.post\")\n",
        "def test_calculate_score(mock_post, quiz_data):\n",
        "    # Mock API response\n",
        "    mock_post.return_value.status_code = 200\n",
        "    mock_post.return_value.json.return_value = {\"score\": 50}  # 1/2 correct\n",
        "\n",
        "    response = requests.post(\"http://localhost:3000/api/quizzes/1/submit\", json=quiz_data)\n",
        "    assert response.status_code == 200, \"Expected 200 OK\"\n",
        "    assert response.json()[\"score\"] == 50, \"Score should be 50% for one correct answer\""
      ],
      "metadata": {
        "id": "FRm_l-yeJ2r9"
      },
      "execution_count": null,
      "outputs": []
    },
    {
      "cell_type": "markdown",
      "source": [
        "**Sample for Integration Test**"
      ],
      "metadata": {
        "id": "wgvBH2eeJrA1"
      }
    },
    {
      "cell_type": "code",
      "source": [
        "import pytest\n",
        "import requests\n",
        "\n",
        "@pytest.fixture\n",
        "def auth_token():\n",
        "    # Simulate login to get JWT\n",
        "    response = requests.post(\"http://localhost:3000/api/users/login\", json={\n",
        "        \"email\": \"teacher@example.com\",\n",
        "        \"password\": \"password123\"\n",
        "    })\n",
        "    assert response.status_code == 200, \"Login failed\"\n",
        "    return response.json()[\"token\"]\n",
        "\n",
        "def test_create_quiz(auth_token):\n",
        "    quiz_data = {\n",
        "        \"title\": \"Math Quiz\",\n",
        "        \"questions\": [\n",
        "            {\n",
        "                \"text\": \"What is 1+1?\",\n",
        "                \"type\": \"multiple-choice\",\n",
        "                \"options\": [\"2\", \"3\", \"4\", \"5\"],\n",
        "                \"correct_answer\": \"2\"\n",
        "            }\n",
        "        ]\n",
        "    }\n",
        "    headers = {\"Authorization\": f\"Bearer {auth_token}\"}\n",
        "    response = requests.post(\"http://localhost:3000/api/quizzes\", json=quiz_data, headers=headers)\n",
        "\n",
        "    assert response.status_code == 201, f\"Expected 201 Created, got {response.status_code}\"\n",
        "    assert response.json()[\"title\"] == \"Math Quiz\", \"Quiz title mismatch\"\n",
        "    assert len(response.json()[\"questions\"]) == 1, \"Expected one question\"\n",
        "    assert response.json()[\"questions\"][0][\"text\"] == \"What is 1+1?\", \"Question text mismatch\""
      ],
      "metadata": {
        "id": "1eQLsydwKaEz"
      },
      "execution_count": 1,
      "outputs": []
    },
    {
      "cell_type": "markdown",
      "source": [
        "Sample case for System test (Cypress)"
      ],
      "metadata": {
        "id": "09Z8ixqbLcuy"
      }
    },
    {
      "cell_type": "code",
      "source": [
        "!pip install playwright"
      ],
      "metadata": {
        "colab": {
          "base_uri": "https://localhost:8080/"
        },
        "id": "1I35FNr1LsGj",
        "outputId": "98529fe9-5afa-477b-ca01-33aeb512ce15"
      },
      "execution_count": 3,
      "outputs": [
        {
          "output_type": "stream",
          "name": "stdout",
          "text": [
            "Collecting playwright\n",
            "  Downloading playwright-1.51.0-py3-none-manylinux1_x86_64.whl.metadata (3.5 kB)\n",
            "Collecting pyee<13,>=12 (from playwright)\n",
            "  Downloading pyee-12.1.1-py3-none-any.whl.metadata (2.9 kB)\n",
            "Requirement already satisfied: greenlet<4.0.0,>=3.1.1 in /usr/local/lib/python3.11/dist-packages (from playwright) (3.1.1)\n",
            "Requirement already satisfied: typing-extensions in /usr/local/lib/python3.11/dist-packages (from pyee<13,>=12->playwright) (4.12.2)\n",
            "Downloading playwright-1.51.0-py3-none-manylinux1_x86_64.whl (45.2 MB)\n",
            "\u001b[2K   \u001b[90m━━━━━━━━━━━━━━━━━━━━━━━━━━━━━━━━━━━━━━━━\u001b[0m \u001b[32m45.2/45.2 MB\u001b[0m \u001b[31m13.9 MB/s\u001b[0m eta \u001b[36m0:00:00\u001b[0m\n",
            "\u001b[?25hDownloading pyee-12.1.1-py3-none-any.whl (15 kB)\n",
            "Installing collected packages: pyee, playwright\n",
            "Successfully installed playwright-1.51.0 pyee-12.1.1\n"
          ]
        }
      ]
    },
    {
      "cell_type": "code",
      "source": [
        "import pytest\n",
        "from playwright.sync_api import sync_playwright\n",
        "\n",
        "@pytest.fixture(scope=\"module\")\n",
        "def browser_context():\n",
        "    with sync_playwright() as p:\n",
        "        browser = p.chromium.launch(headless=True)\n",
        "        context = browser.new_context()\n",
        "        yield context\n",
        "        context.close()\n",
        "        browser.close()\n",
        "\n",
        "def test_take_quiz(browser_context):\n",
        "    page = browser_context.new_page()\n",
        "\n",
        "    # Login\n",
        "    page.goto(\"http://localhost:3000/login\")\n",
        "    page.fill('input[name=\"email\"]', \"student@example.com\")\n",
        "    page.fill('input[name=\"password\"]', \"password123\")\n",
        "    page.click('button[type=\"submit\"]')\n",
        "    assert page.url.endswith(\"/dashboard\"), \"Login failed\"\n",
        "\n",
        "    # Navigate to quiz\n",
        "    page.goto(\"http://localhost:3000/quizzes/1\")\n",
        "    page.select_option('select[name=\"question-1\"]', \"A\")  # Assume correct answer\n",
        "    page.click('button[data-testid=\"submit-quiz\"]')\n",
        "\n",
        "    # Verify score\n",
        "    score_text = page.text_content('[data-testid=\"score\"]')\n",
        "    assert \"Your score: 100%\" in score_text, \"Expected full score for correct answer\""
      ],
      "metadata": {
        "id": "qP90dAOwLcGz"
      },
      "execution_count": 4,
      "outputs": []
    }
  ]
}